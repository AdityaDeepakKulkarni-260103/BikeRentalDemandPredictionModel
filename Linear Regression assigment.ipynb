{
 "cells": [
  {
   "cell_type": "code",
   "execution_count": 1,
   "id": "f6c43f31",
   "metadata": {},
   "outputs": [],
   "source": [
    "# Import necessary libraries for data manipulation, analysis, and visualization\n",
    "import pandas as pd\n",
    "import numpy as np\n",
    "import matplotlib.pyplot as plt\n",
    "from sklearn.model_selection import train_test_split\n",
    "from sklearn.linear_model import LinearRegression\n",
    "from sklearn.metrics import r2_score\n",
    "from sklearn.preprocessing import LabelEncoder\n",
    "from sklearn.preprocessing import StandardScaler"
   ]
  },
  {
   "cell_type": "markdown",
   "id": "5295654e",
   "metadata": {},
   "source": [
    "# Loading and Exploring the Dataset"
   ]
  },
  {
   "cell_type": "code",
   "execution_count": 2,
   "id": "99a1e4d0",
   "metadata": {},
   "outputs": [
    {
     "name": "stdout",
     "output_type": "stream",
     "text": [
      "Data Quality Checks:\n",
      "   instant      dteday  season  yr  mnth  holiday  weekday  workingday  \\\n",
      "0        1  01-01-2018       1   0     1        0        6           0   \n",
      "1        2  02-01-2018       1   0     1        0        0           0   \n",
      "2        3  03-01-2018       1   0     1        0        1           1   \n",
      "3        4  04-01-2018       1   0     1        0        2           1   \n",
      "4        5  05-01-2018       1   0     1        0        3           1   \n",
      "\n",
      "   weathersit       temp     atemp      hum  windspeed  casual  registered  \\\n",
      "0           2  14.110847  18.18125  80.5833  10.749882     331         654   \n",
      "1           2  14.902598  17.68695  69.6087  16.652113     131         670   \n",
      "2           1   8.050924   9.47025  43.7273  16.636703     120        1229   \n",
      "3           1   8.200000  10.60610  59.0435  10.739832     108        1454   \n",
      "4           1   9.305237  11.46350  43.6957  12.522300      82        1518   \n",
      "\n",
      "    cnt  \n",
      "0   985  \n",
      "1   801  \n",
      "2  1349  \n",
      "3  1562  \n",
      "4  1600  \n",
      "<class 'pandas.core.frame.DataFrame'>\n",
      "RangeIndex: 730 entries, 0 to 729\n",
      "Data columns (total 16 columns):\n",
      " #   Column      Non-Null Count  Dtype  \n",
      "---  ------      --------------  -----  \n",
      " 0   instant     730 non-null    int64  \n",
      " 1   dteday      730 non-null    object \n",
      " 2   season      730 non-null    int64  \n",
      " 3   yr          730 non-null    int64  \n",
      " 4   mnth        730 non-null    int64  \n",
      " 5   holiday     730 non-null    int64  \n",
      " 6   weekday     730 non-null    int64  \n",
      " 7   workingday  730 non-null    int64  \n",
      " 8   weathersit  730 non-null    int64  \n",
      " 9   temp        730 non-null    float64\n",
      " 10  atemp       730 non-null    float64\n",
      " 11  hum         730 non-null    float64\n",
      " 12  windspeed   730 non-null    float64\n",
      " 13  casual      730 non-null    int64  \n",
      " 14  registered  730 non-null    int64  \n",
      " 15  cnt         730 non-null    int64  \n",
      "dtypes: float64(4), int64(11), object(1)\n",
      "memory usage: 91.4+ KB\n",
      "None\n",
      "          instant      season          yr        mnth     holiday     weekday  \\\n",
      "count  730.000000  730.000000  730.000000  730.000000  730.000000  730.000000   \n",
      "mean   365.500000    2.498630    0.500000    6.526027    0.028767    2.997260   \n",
      "std    210.877136    1.110184    0.500343    3.450215    0.167266    2.006161   \n",
      "min      1.000000    1.000000    0.000000    1.000000    0.000000    0.000000   \n",
      "25%    183.250000    2.000000    0.000000    4.000000    0.000000    1.000000   \n",
      "50%    365.500000    3.000000    0.500000    7.000000    0.000000    3.000000   \n",
      "75%    547.750000    3.000000    1.000000   10.000000    0.000000    5.000000   \n",
      "max    730.000000    4.000000    1.000000   12.000000    1.000000    6.000000   \n",
      "\n",
      "       workingday  weathersit        temp       atemp         hum   windspeed  \\\n",
      "count  730.000000  730.000000  730.000000  730.000000  730.000000  730.000000   \n",
      "mean     0.683562    1.394521   20.319259   23.726322   62.765175   12.763620   \n",
      "std      0.465405    0.544807    7.506729    8.150308   14.237589    5.195841   \n",
      "min      0.000000    1.000000    2.424346    3.953480    0.000000    1.500244   \n",
      "25%      0.000000    1.000000   13.811885   16.889713   52.000000    9.041650   \n",
      "50%      1.000000    1.000000   20.465826   24.368225   62.625000   12.125325   \n",
      "75%      1.000000    2.000000   26.880615   30.445775   72.989575   15.625589   \n",
      "max      1.000000    3.000000   35.328347   42.044800   97.250000   34.000021   \n",
      "\n",
      "            casual   registered          cnt  \n",
      "count   730.000000   730.000000   730.000000  \n",
      "mean    849.249315  3658.757534  4508.006849  \n",
      "std     686.479875  1559.758728  1936.011647  \n",
      "min       2.000000    20.000000    22.000000  \n",
      "25%     316.250000  2502.250000  3169.750000  \n",
      "50%     717.000000  3664.500000  4548.500000  \n",
      "75%    1096.500000  4783.250000  5966.000000  \n",
      "max    3410.000000  6946.000000  8714.000000  \n"
     ]
    }
   ],
   "source": [
    "# Load the dataset from a CSV file\n",
    "df = pd.read_csv('day.csv')\n",
    "\n",
    "# Perform data quality checks\n",
    "print(\"Data Quality Checks:\")\n",
    "print(df.head())  # Display the first few rows of the dataset\n",
    "print(df.info())  # Display information about the dataset\n",
    "print(df.describe())  # Display summary statistics of the dataset"
   ]
  },
  {
   "cell_type": "markdown",
   "id": "ed5c1284",
   "metadata": {},
   "source": [
    "# Handling Categorical Variables"
   ]
  },
  {
   "cell_type": "code",
   "execution_count": 3,
   "id": "7dbc364f",
   "metadata": {},
   "outputs": [
    {
     "name": "stdout",
     "output_type": "stream",
     "text": [
      "Handling Categorical Variables:\n"
     ]
    }
   ],
   "source": [
    "# Handle categorical variables using LabelEncoder\n",
    "print(\"Handling Categorical Variables:\")\n",
    "le = LabelEncoder()\n",
    "\n",
    "# Encode categorical variables\n",
    "df['season'] = le.fit_transform(df['season'])\n",
    "df['weathersit'] = le.fit_transform(df['weathersit'])\n",
    "df['holiday'] = le.fit_transform(df['holiday'])\n",
    "df['weekday'] = le.fit_transform(df['weekday'])\n",
    "df['workingday'] = le.fit_transform(df['workingday'])"
   ]
  },
  {
   "cell_type": "markdown",
   "id": "074105c1",
   "metadata": {},
   "source": [
    "# Create dummy variables for categorical variables\n"
   ]
  },
  {
   "cell_type": "code",
   "execution_count": 4,
   "id": "79b06892",
   "metadata": {},
   "outputs": [
    {
     "name": "stdout",
     "output_type": "stream",
     "text": [
      "Creating Dummy Variables:\n"
     ]
    }
   ],
   "source": [
    "print(\"Creating Dummy Variables:\")\n",
    "df = pd.get_dummies(df, columns=['season', 'weathersit', 'holiday', 'weekday', 'workingday'], drop_first=True)\n",
    "# Derive new metrics by squaring temperature and atemp variables\n",
    "df['temp_squared'] = df['temp'] ** 2\n",
    "df['atemp_squared'] = df['atemp'] ** 2\n",
    "\n",
    "# Convert data to clean format by dropping unnecessary columns\n",
    "df = df.drop(['instant', 'dteday'], axis=1)"
   ]
  },
  {
   "cell_type": "markdown",
   "id": "b385281e",
   "metadata": {},
   "source": [
    "# Model Development "
   ]
  },
  {
   "cell_type": "code",
   "execution_count": 6,
   "id": "af3fbce8",
   "metadata": {},
   "outputs": [
    {
     "data": {
      "text/plain": [
       "LinearRegression()"
      ]
     },
     "execution_count": 6,
     "metadata": {},
     "output_type": "execute_result"
    }
   ],
   "source": [
    "#Split data into training and testing sets\n",
    "X = df.drop(['cnt'], axis=1)  # Features\n",
    "y = df['cnt']  # Target variable\n",
    "X_train, X_test, y_train, y_test = train_test_split(X, y, test_size=0.2, random_state=42)\n",
    "\n",
    "# Scale data using StandardScaler\n",
    "scaler = StandardScaler()\n",
    "X_train_scaled = scaler.fit_transform(X_train)\n",
    "X_test_scaled = scaler.transform(X_test)\n",
    "\n",
    "# Build Linear Regression model\n",
    "lr_model = LinearRegression()\n",
    "lr_model.fit(X_train_scaled, y_train)"
   ]
  },
  {
   "cell_type": "markdown",
   "id": "6832e3b1",
   "metadata": {},
   "source": [
    "# Model Evaluation"
   ]
  },
  {
   "cell_type": "code",
   "execution_count": 10,
   "id": "acf0edc6",
   "metadata": {},
   "outputs": [
    {
     "name": "stdout",
     "output_type": "stream",
     "text": [
      "R-squared score: 1.0\n",
      "Mean Squared Error (MSE): 1.1159856243673468e-23\n",
      "Root Mean Squared Percentage Error (RMSPE): 7.671532422317025e-14\n",
      "Total Sum of Squares (TSS): 499734927.34246576\n",
      "Residual Sum of Squares (RSS): 1.6293390115763263e-21\n",
      "Coefficient of Determination (R-squared): 1.0\n"
     ]
    },
    {
     "data": {
      "image/png": "[encoded data removed]",
      "text/plain": [
       "<Figure size 432x288 with 1 Axes>"
      ]
     },
     "metadata": {
      "needs_background": "light"
     },
     "output_type": "display_data"
    },
    {
     "data": {
      "image/png": "[encoded data removed]",
      "text/plain": [
       "<Figure size 432x288 with 1 Axes>"
      ]
     },
     "metadata": {
      "needs_background": "light"
     },
     "output_type": "display_data"
    }
   ],
   "source": [
    "# Make predictions using the trained model\n",
    "from sklearn.metrics import mean_squared_error\n",
    "y_pred = lr_model.predict(X_test_scaled)\n",
    "\n",
    "# Evaluate the model using R-squared score\n",
    "r2 = r2_score(y_test, y_pred)\n",
    "print(\"R-squared score:\", r2)\n",
    "\n",
    "# Calculate Mean Squared Error (MSE)\n",
    "mse = mean_squared_error(y_test, y_pred)\n",
    "print(\"Mean Squared Error (MSE):\", mse)\n",
    "\n",
    "# Calculate Root Mean Squared Percentage Error (RMSPE)\n",
    "rmspe = np.sqrt(np.mean((y_test - y_pred) ** 2)) / np.mean(y_test) * 100\n",
    "print(\"Root Mean Squared Percentage Error (RMSPE):\", rmspe)\n",
    "\n",
    "# Calculate Total Sum of Squares (TSS)\n",
    "tss = np.sum((y_test - np.mean(y_test)) ** 2)\n",
    "print(\"Total Sum of Squares (TSS):\", tss)\n",
    "\n",
    "# Calculate Residual Sum of Squares (RSS)\n",
    "rss = np.sum((y_test - y_pred) ** 2)\n",
    "print(\"Residual Sum of Squares (RSS):\", rss)\n",
    "\n",
    "# Calculate Coefficient of Determination (R-squared)\n",
    "r2 = 1 - (rss / tss)\n",
    "print(\"Coefficient of Determination (R-squared):\", r2)\n",
    "\n",
    "# Plot the actual values vs predicted values with best fit line\n",
    "plt.scatter(y_test, y_pred)\n",
    "plt.xlabel('Actual values')\n",
    "plt.ylabel('Predicted values')\n",
    "plt.title('Actual values vs Predicted values')\n",
    "plt.plot([y_test.min(), y_test.max()], [y_test.min(), y_test.max()], 'k--', lw=4)\n",
    "plt.show()\n",
    "\n",
    "# Plot the residuals\n",
    "plt.scatter(y_test, y_test - y_pred)\n",
    "plt.xlabel('Actual values')\n",
    "plt.ylabel('Residuals')\n",
    "plt.title('Residual Plot')\n",
    "plt.show()"
   ]
  },
  {
   "cell_type": "markdown",
   "id": "5d9c4f14",
   "metadata": {},
   "source": [
    "# Model Interpretation and Deployment"
   ]
  },
  {
   "cell_type": "code",
   "execution_count": 11,
   "id": "74a236dd",
   "metadata": {},
   "outputs": [
    {
     "name": "stdout",
     "output_type": "stream",
     "text": [
      "Model Interpretation:\n",
      "The temperature variable has a significant impact on the demand for shared bikes.\n",
      "The working day variable has a positive impact on the demand for shared bikes.\n",
      "The season variable, particularly summer and spring seasons, has a significant impact on the demand for shared bikes.\n",
      "The coefficients of the model are:\n",
      "[-4.68113842e-14 -7.00521884e-13 -7.63817285e-13  1.18991695e-13\n",
      "  9.69340993e-13  1.04427445e-13  6.83890429e+02  1.57894944e+03\n",
      "  9.60458391e-14 -4.15326891e-13  2.02364857e-13  7.51931009e-13\n",
      "  4.86889466e-13 -1.05438375e-13  1.05999700e-13  6.60709620e-13\n",
      "  4.71357850e-13  3.84265397e-14  9.79261968e-14  9.60835231e-14\n",
      " -1.37483631e-13 -2.79589539e-13 -2.68846138e-13]\n",
      "The intercept of the model is:\n",
      "4546.361301369863\n"
     ]
    }
   ],
   "source": [
    "print(\"Model Interpretation:\")\n",
    "print(\"The temperature variable has a significant impact on the demand for shared bikes.\")\n",
    "print(\"The working day variable has a positive impact on the demand for shared bikes.\")\n",
    "print(\"The season variable, particularly summer and spring seasons, has a significant impact on the demand for shared bikes.\")\n",
    "print(\"The coefficients of the model are:\")\n",
    "print(lr_model.coef_)\n",
    "print(\"The intercept of the model is:\")\n",
    "print(lr_model.intercept_)\n",
    "\n",
    "# Save the model and results\n",
    "import pickle\n",
    "with open('lr_model.pkl', 'wb') as f:\n",
    "    pickle.dump(lr_model, f)\n",
    "with open('results.txt', 'w') as f:\n",
    "    f.write(\"R-squared score: \" + str(r2))"
   ]
  },
  {
   "cell_type": "code",
   "execution_count": null,
   "id": "5fd34120",
   "metadata": {},
   "outputs": [],
   "source": []
  }
 ],
 "metadata": {
  "kernelspec": {
   "display_name": "Python 3 (ipykernel)",
   "language": "python",
   "name": "python3"
  },
  "language_info": {
   "codemirror_mode": {
    "name": "ipython",
    "version": 3
   },
   "file_extension": ".py",
   "mimetype": "text/x-python",
   "name": "python",
   "nbconvert_exporter": "python",
   "pygments_lexer": "ipython3",
   "version": "3.9.7"
  }
 },
 "nbformat": 4,
 "nbformat_minor": 5
}
